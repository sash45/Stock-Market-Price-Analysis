{
  "nbformat": 4,
  "nbformat_minor": 0,
  "metadata": {
    "colab": {
      "name": "Stock Market Prediction using LSTM for a single Stock.ipynb",
      "provenance": [],
      "collapsed_sections": []
    },
    "kernelspec": {
      "name": "python3",
      "display_name": "Python 3"
    },
    "accelerator": "GPU"
  },
  "cells": [
    {
      "cell_type": "code",
      "metadata": {
        "colab": {
          "base_uri": "https://localhost:8080/"
        },
        "id": "OD5CDaQu0At4",
        "outputId": "88364bd2-2008-4b89-d841-bb9b196f43fd"
      },
      "source": [
        "!pip install yfinance"
      ],
      "execution_count": null,
      "outputs": [
        {
          "output_type": "stream",
          "text": [
            "Collecting yfinance\n",
            "  Downloading https://files.pythonhosted.org/packages/7a/e8/b9d7104d3a4bf39924799067592d9e59119fcfc900a425a12e80a3123ec8/yfinance-0.1.55.tar.gz\n",
            "Requirement already satisfied: pandas>=0.24 in /usr/local/lib/python3.6/dist-packages (from yfinance) (1.1.4)\n",
            "Requirement already satisfied: numpy>=1.15 in /usr/local/lib/python3.6/dist-packages (from yfinance) (1.18.5)\n",
            "Requirement already satisfied: requests>=2.20 in /usr/local/lib/python3.6/dist-packages (from yfinance) (2.23.0)\n",
            "Requirement already satisfied: multitasking>=0.0.7 in /usr/local/lib/python3.6/dist-packages (from yfinance) (0.0.9)\n",
            "Collecting lxml>=4.5.1\n",
            "\u001b[?25l  Downloading https://files.pythonhosted.org/packages/64/28/0b761b64ecbd63d272ed0e7a6ae6e4402fc37886b59181bfdf274424d693/lxml-4.6.1-cp36-cp36m-manylinux1_x86_64.whl (5.5MB)\n",
            "\u001b[K     |████████████████████████████████| 5.5MB 11.2MB/s \n",
            "\u001b[?25hRequirement already satisfied: python-dateutil>=2.7.3 in /usr/local/lib/python3.6/dist-packages (from pandas>=0.24->yfinance) (2.8.1)\n",
            "Requirement already satisfied: pytz>=2017.2 in /usr/local/lib/python3.6/dist-packages (from pandas>=0.24->yfinance) (2018.9)\n",
            "Requirement already satisfied: urllib3!=1.25.0,!=1.25.1,<1.26,>=1.21.1 in /usr/local/lib/python3.6/dist-packages (from requests>=2.20->yfinance) (1.24.3)\n",
            "Requirement already satisfied: chardet<4,>=3.0.2 in /usr/local/lib/python3.6/dist-packages (from requests>=2.20->yfinance) (3.0.4)\n",
            "Requirement already satisfied: certifi>=2017.4.17 in /usr/local/lib/python3.6/dist-packages (from requests>=2.20->yfinance) (2020.6.20)\n",
            "Requirement already satisfied: idna<3,>=2.5 in /usr/local/lib/python3.6/dist-packages (from requests>=2.20->yfinance) (2.10)\n",
            "Requirement already satisfied: six>=1.5 in /usr/local/lib/python3.6/dist-packages (from python-dateutil>=2.7.3->pandas>=0.24->yfinance) (1.15.0)\n",
            "Building wheels for collected packages: yfinance\n",
            "  Building wheel for yfinance (setup.py) ... \u001b[?25l\u001b[?25hdone\n",
            "  Created wheel for yfinance: filename=yfinance-0.1.55-py2.py3-none-any.whl size=22618 sha256=65a59e94bc8e83de02caef75168475f2bd7e2e61d82390fa71a4cfa44d437a92\n",
            "  Stored in directory: /root/.cache/pip/wheels/04/98/cc/2702a4242d60bdc14f48b4557c427ded1fe92aedf257d4565c\n",
            "Successfully built yfinance\n",
            "Installing collected packages: lxml, yfinance\n",
            "  Found existing installation: lxml 4.2.6\n",
            "    Uninstalling lxml-4.2.6:\n",
            "      Successfully uninstalled lxml-4.2.6\n",
            "Successfully installed lxml-4.6.1 yfinance-0.1.55\n"
          ],
          "name": "stdout"
        }
      ]
    },
    {
      "cell_type": "code",
      "metadata": {
        "id": "6WP1vwGw0Kkw"
      },
      "source": [
        "import numpy as np\n",
        "import pandas as pd\n",
        "import yfinance as yf\n",
        "import datetime as dt\n",
        "import matplotlib.pyplot as plt\n",
        "import seaborn as sns"
      ],
      "execution_count": null,
      "outputs": []
    },
    {
      "cell_type": "code",
      "metadata": {
        "colab": {
          "base_uri": "https://localhost:8080/",
          "height": 252
        },
        "id": "yx_D0Pni0cj6",
        "outputId": "6617ab57-c214-44c3-b383-81239d52e866"
      },
      "source": [
        "stock='TSLA'\n",
        "tsla= yf.download(stock,period='10y')\n",
        "tsla.head()"
      ],
      "execution_count": null,
      "outputs": [
        {
          "output_type": "stream",
          "text": [
            "\r[*********************100%***********************]  1 of 1 completed\n"
          ],
          "name": "stdout"
        },
        {
          "output_type": "execute_result",
          "data": {
            "text/html": [
              "<div>\n",
              "<style scoped>\n",
              "    .dataframe tbody tr th:only-of-type {\n",
              "        vertical-align: middle;\n",
              "    }\n",
              "\n",
              "    .dataframe tbody tr th {\n",
              "        vertical-align: top;\n",
              "    }\n",
              "\n",
              "    .dataframe thead th {\n",
              "        text-align: right;\n",
              "    }\n",
              "</style>\n",
              "<table border=\"1\" class=\"dataframe\">\n",
              "  <thead>\n",
              "    <tr style=\"text-align: right;\">\n",
              "      <th></th>\n",
              "      <th>Open</th>\n",
              "      <th>High</th>\n",
              "      <th>Low</th>\n",
              "      <th>Close</th>\n",
              "      <th>Adj Close</th>\n",
              "      <th>Volume</th>\n",
              "    </tr>\n",
              "    <tr>\n",
              "      <th>Date</th>\n",
              "      <th></th>\n",
              "      <th></th>\n",
              "      <th></th>\n",
              "      <th></th>\n",
              "      <th></th>\n",
              "      <th></th>\n",
              "    </tr>\n",
              "  </thead>\n",
              "  <tbody>\n",
              "    <tr>\n",
              "      <th>2010-11-22</th>\n",
              "      <td>6.314</td>\n",
              "      <td>6.690</td>\n",
              "      <td>6.300</td>\n",
              "      <td>6.680</td>\n",
              "      <td>6.680</td>\n",
              "      <td>7648500</td>\n",
              "    </tr>\n",
              "    <tr>\n",
              "      <th>2010-11-23</th>\n",
              "      <td>6.658</td>\n",
              "      <td>7.136</td>\n",
              "      <td>6.438</td>\n",
              "      <td>6.914</td>\n",
              "      <td>6.914</td>\n",
              "      <td>7889000</td>\n",
              "    </tr>\n",
              "    <tr>\n",
              "      <th>2010-11-24</th>\n",
              "      <td>7.054</td>\n",
              "      <td>7.194</td>\n",
              "      <td>6.866</td>\n",
              "      <td>7.094</td>\n",
              "      <td>7.094</td>\n",
              "      <td>7125000</td>\n",
              "    </tr>\n",
              "    <tr>\n",
              "      <th>2010-11-26</th>\n",
              "      <td>7.120</td>\n",
              "      <td>7.200</td>\n",
              "      <td>6.950</td>\n",
              "      <td>7.064</td>\n",
              "      <td>7.064</td>\n",
              "      <td>1753000</td>\n",
              "    </tr>\n",
              "    <tr>\n",
              "      <th>2010-11-29</th>\n",
              "      <td>7.082</td>\n",
              "      <td>7.190</td>\n",
              "      <td>6.666</td>\n",
              "      <td>6.866</td>\n",
              "      <td>6.866</td>\n",
              "      <td>5728000</td>\n",
              "    </tr>\n",
              "  </tbody>\n",
              "</table>\n",
              "</div>"
            ],
            "text/plain": [
              "             Open   High    Low  Close  Adj Close   Volume\n",
              "Date                                                      \n",
              "2010-11-22  6.314  6.690  6.300  6.680      6.680  7648500\n",
              "2010-11-23  6.658  7.136  6.438  6.914      6.914  7889000\n",
              "2010-11-24  7.054  7.194  6.866  7.094      7.094  7125000\n",
              "2010-11-26  7.120  7.200  6.950  7.064      7.064  1753000\n",
              "2010-11-29  7.082  7.190  6.666  6.866      6.866  5728000"
            ]
          },
          "metadata": {
            "tags": []
          },
          "execution_count": 3
        }
      ]
    },
    {
      "cell_type": "code",
      "metadata": {
        "id": "iigdBe8H1o95"
      },
      "source": [
        "tsla['Daily Return']=tsla['Adj Close'].pct_change()"
      ],
      "execution_count": null,
      "outputs": []
    },
    {
      "cell_type": "code",
      "metadata": {
        "id": "P7bl90vL1Ev5"
      },
      "source": [
        "tsla['Daily Return'].replace({np.nan:0},inplace=True)"
      ],
      "execution_count": null,
      "outputs": []
    },
    {
      "cell_type": "code",
      "metadata": {
        "colab": {
          "base_uri": "https://localhost:8080/",
          "height": 450
        },
        "id": "zpS6YtW17Iz4",
        "outputId": "88d9cf46-e2dd-412f-9fbd-c09a980568b3"
      },
      "source": [
        "tsla"
      ],
      "execution_count": null,
      "outputs": [
        {
          "output_type": "execute_result",
          "data": {
            "text/html": [
              "<div>\n",
              "<style scoped>\n",
              "    .dataframe tbody tr th:only-of-type {\n",
              "        vertical-align: middle;\n",
              "    }\n",
              "\n",
              "    .dataframe tbody tr th {\n",
              "        vertical-align: top;\n",
              "    }\n",
              "\n",
              "    .dataframe thead th {\n",
              "        text-align: right;\n",
              "    }\n",
              "</style>\n",
              "<table border=\"1\" class=\"dataframe\">\n",
              "  <thead>\n",
              "    <tr style=\"text-align: right;\">\n",
              "      <th></th>\n",
              "      <th>Open</th>\n",
              "      <th>High</th>\n",
              "      <th>Low</th>\n",
              "      <th>Close</th>\n",
              "      <th>Adj Close</th>\n",
              "      <th>Volume</th>\n",
              "      <th>Daily Return</th>\n",
              "    </tr>\n",
              "    <tr>\n",
              "      <th>Date</th>\n",
              "      <th></th>\n",
              "      <th></th>\n",
              "      <th></th>\n",
              "      <th></th>\n",
              "      <th></th>\n",
              "      <th></th>\n",
              "      <th></th>\n",
              "    </tr>\n",
              "  </thead>\n",
              "  <tbody>\n",
              "    <tr>\n",
              "      <th>2010-11-22</th>\n",
              "      <td>6.314000</td>\n",
              "      <td>6.690000</td>\n",
              "      <td>6.300000</td>\n",
              "      <td>6.680000</td>\n",
              "      <td>6.680000</td>\n",
              "      <td>7648500</td>\n",
              "      <td>0.000000</td>\n",
              "    </tr>\n",
              "    <tr>\n",
              "      <th>2010-11-23</th>\n",
              "      <td>6.658000</td>\n",
              "      <td>7.136000</td>\n",
              "      <td>6.438000</td>\n",
              "      <td>6.914000</td>\n",
              "      <td>6.914000</td>\n",
              "      <td>7889000</td>\n",
              "      <td>0.035030</td>\n",
              "    </tr>\n",
              "    <tr>\n",
              "      <th>2010-11-24</th>\n",
              "      <td>7.054000</td>\n",
              "      <td>7.194000</td>\n",
              "      <td>6.866000</td>\n",
              "      <td>7.094000</td>\n",
              "      <td>7.094000</td>\n",
              "      <td>7125000</td>\n",
              "      <td>0.026034</td>\n",
              "    </tr>\n",
              "    <tr>\n",
              "      <th>2010-11-26</th>\n",
              "      <td>7.120000</td>\n",
              "      <td>7.200000</td>\n",
              "      <td>6.950000</td>\n",
              "      <td>7.064000</td>\n",
              "      <td>7.064000</td>\n",
              "      <td>1753000</td>\n",
              "      <td>-0.004229</td>\n",
              "    </tr>\n",
              "    <tr>\n",
              "      <th>2010-11-29</th>\n",
              "      <td>7.082000</td>\n",
              "      <td>7.190000</td>\n",
              "      <td>6.666000</td>\n",
              "      <td>6.866000</td>\n",
              "      <td>6.866000</td>\n",
              "      <td>5728000</td>\n",
              "      <td>-0.028029</td>\n",
              "    </tr>\n",
              "    <tr>\n",
              "      <th>...</th>\n",
              "      <td>...</td>\n",
              "      <td>...</td>\n",
              "      <td>...</td>\n",
              "      <td>...</td>\n",
              "      <td>...</td>\n",
              "      <td>...</td>\n",
              "      <td>...</td>\n",
              "    </tr>\n",
              "    <tr>\n",
              "      <th>2020-11-16</th>\n",
              "      <td>408.929993</td>\n",
              "      <td>412.450012</td>\n",
              "      <td>404.089996</td>\n",
              "      <td>408.089996</td>\n",
              "      <td>408.089996</td>\n",
              "      <td>26838600</td>\n",
              "      <td>-0.001004</td>\n",
              "    </tr>\n",
              "    <tr>\n",
              "      <th>2020-11-17</th>\n",
              "      <td>460.170013</td>\n",
              "      <td>462.000000</td>\n",
              "      <td>433.010010</td>\n",
              "      <td>441.609985</td>\n",
              "      <td>441.609985</td>\n",
              "      <td>61188300</td>\n",
              "      <td>0.082139</td>\n",
              "    </tr>\n",
              "    <tr>\n",
              "      <th>2020-11-18</th>\n",
              "      <td>448.350006</td>\n",
              "      <td>496.000000</td>\n",
              "      <td>443.500000</td>\n",
              "      <td>486.640015</td>\n",
              "      <td>486.640015</td>\n",
              "      <td>78044000</td>\n",
              "      <td>0.101968</td>\n",
              "    </tr>\n",
              "    <tr>\n",
              "      <th>2020-11-19</th>\n",
              "      <td>492.000000</td>\n",
              "      <td>508.609985</td>\n",
              "      <td>487.570007</td>\n",
              "      <td>499.269989</td>\n",
              "      <td>499.269989</td>\n",
              "      <td>62475300</td>\n",
              "      <td>0.025953</td>\n",
              "    </tr>\n",
              "    <tr>\n",
              "      <th>2020-11-20</th>\n",
              "      <td>497.989990</td>\n",
              "      <td>502.500000</td>\n",
              "      <td>489.059998</td>\n",
              "      <td>489.609985</td>\n",
              "      <td>489.609985</td>\n",
              "      <td>32807300</td>\n",
              "      <td>-0.019348</td>\n",
              "    </tr>\n",
              "  </tbody>\n",
              "</table>\n",
              "<p>2518 rows × 7 columns</p>\n",
              "</div>"
            ],
            "text/plain": [
              "                  Open        High  ...    Volume  Daily Return\n",
              "Date                                ...                        \n",
              "2010-11-22    6.314000    6.690000  ...   7648500      0.000000\n",
              "2010-11-23    6.658000    7.136000  ...   7889000      0.035030\n",
              "2010-11-24    7.054000    7.194000  ...   7125000      0.026034\n",
              "2010-11-26    7.120000    7.200000  ...   1753000     -0.004229\n",
              "2010-11-29    7.082000    7.190000  ...   5728000     -0.028029\n",
              "...                ...         ...  ...       ...           ...\n",
              "2020-11-16  408.929993  412.450012  ...  26838600     -0.001004\n",
              "2020-11-17  460.170013  462.000000  ...  61188300      0.082139\n",
              "2020-11-18  448.350006  496.000000  ...  78044000      0.101968\n",
              "2020-11-19  492.000000  508.609985  ...  62475300      0.025953\n",
              "2020-11-20  497.989990  502.500000  ...  32807300     -0.019348\n",
              "\n",
              "[2518 rows x 7 columns]"
            ]
          },
          "metadata": {
            "tags": []
          },
          "execution_count": 6
        }
      ]
    },
    {
      "cell_type": "code",
      "metadata": {
        "colab": {
          "base_uri": "https://localhost:8080/",
          "height": 389
        },
        "id": "FkLNLWF_1-6b",
        "outputId": "8d6aed3f-3c3d-4c0f-d406-c33c44fdc672"
      },
      "source": [
        "plt.figure(figsize=(10,5))\n",
        "sns.distplot(tsla['Daily Return'], bins=100, color='purple')\n",
        "plt.ylabel('Daily Return')\n",
        "plt.xlabel('Date')\n",
        "plt.show()"
      ],
      "execution_count": null,
      "outputs": [
        {
          "output_type": "stream",
          "text": [
            "/usr/local/lib/python3.6/dist-packages/seaborn/distributions.py:2551: FutureWarning: `distplot` is a deprecated function and will be removed in a future version. Please adapt your code to use either `displot` (a figure-level function with similar flexibility) or `histplot` (an axes-level function for histograms).\n",
            "  warnings.warn(msg, FutureWarning)\n"
          ],
          "name": "stderr"
        },
        {
          "output_type": "display_data",
          "data": {
            "image/png": "[encoded data removed]",
            "text/plain": [
              "<Figure size 720x360 with 1 Axes>"
            ]
          },
          "metadata": {
            "tags": [],
            "needs_background": "light"
          }
        }
      ]
    },
    {
      "cell_type": "code",
      "metadata": {
        "colab": {
          "base_uri": "https://localhost:8080/",
          "height": 334
        },
        "id": "sqHWVDWT7xpB",
        "outputId": "2ac010a4-b6e9-46eb-a3ea-b136c92b4faa"
      },
      "source": [
        "plt.figure(figsize=(10,5))\n",
        "plt.plot(tsla['Close'])\n",
        "plt.ylabel('Closing Price')\n",
        "plt.xlabel('Date')\n",
        "plt.show()"
      ],
      "execution_count": null,
      "outputs": [
        {
          "output_type": "display_data",
          "data": {
            "image/png": "[encoded data removed]",
            "text/plain": [
              "<Figure size 720x360 with 1 Axes>"
            ]
          },
          "metadata": {
            "tags": [],
            "needs_background": "light"
          }
        }
      ]
    },
    {
      "cell_type": "markdown",
      "metadata": {
        "id": "riM6dFgrNTXv"
      },
      "source": [
        "## Model Building"
      ]
    },
    {
      "cell_type": "code",
      "metadata": {
        "id": "aQfsUmyJNX1K"
      },
      "source": [
        "from keras.models import Sequential\n",
        "from keras.layers import Dense\n",
        "from keras.layers import LSTM\n",
        "from keras.layers import Dropout\n",
        "from keras.layers import *\n",
        "from sklearn.preprocessing import MinMaxScaler\n",
        "from sklearn.metrics import mean_squared_error\n",
        "from sklearn.metrics import mean_absolute_error\n",
        "from sklearn.model_selection import train_test_split\n",
        "from keras.callbacks import EarlyStopping\n",
        "import math"
      ],
      "execution_count": null,
      "outputs": []
    },
    {
      "cell_type": "code",
      "metadata": {
        "id": "0rTlTLRncv_J"
      },
      "source": [
        "tsla=tsla.reset_index()"
      ],
      "execution_count": null,
      "outputs": []
    },
    {
      "cell_type": "code",
      "metadata": {
        "colab": {
          "base_uri": "https://localhost:8080/",
          "height": 419
        },
        "id": "tHU1ZI5Iond8",
        "outputId": "ee5c08df-5d07-4aa8-ded9-6d418ece295d"
      },
      "source": [
        "tsla"
      ],
      "execution_count": null,
      "outputs": [
        {
          "output_type": "execute_result",
          "data": {
            "text/html": [
              "<div>\n",
              "<style scoped>\n",
              "    .dataframe tbody tr th:only-of-type {\n",
              "        vertical-align: middle;\n",
              "    }\n",
              "\n",
              "    .dataframe tbody tr th {\n",
              "        vertical-align: top;\n",
              "    }\n",
              "\n",
              "    .dataframe thead th {\n",
              "        text-align: right;\n",
              "    }\n",
              "</style>\n",
              "<table border=\"1\" class=\"dataframe\">\n",
              "  <thead>\n",
              "    <tr style=\"text-align: right;\">\n",
              "      <th></th>\n",
              "      <th>Date</th>\n",
              "      <th>Open</th>\n",
              "      <th>High</th>\n",
              "      <th>Low</th>\n",
              "      <th>Close</th>\n",
              "      <th>Adj Close</th>\n",
              "      <th>Volume</th>\n",
              "      <th>Daily Return</th>\n",
              "    </tr>\n",
              "  </thead>\n",
              "  <tbody>\n",
              "    <tr>\n",
              "      <th>0</th>\n",
              "      <td>2010-11-22</td>\n",
              "      <td>6.314000</td>\n",
              "      <td>6.690000</td>\n",
              "      <td>6.300000</td>\n",
              "      <td>6.680000</td>\n",
              "      <td>6.680000</td>\n",
              "      <td>7648500</td>\n",
              "      <td>0.000000</td>\n",
              "    </tr>\n",
              "    <tr>\n",
              "      <th>1</th>\n",
              "      <td>2010-11-23</td>\n",
              "      <td>6.658000</td>\n",
              "      <td>7.136000</td>\n",
              "      <td>6.438000</td>\n",
              "      <td>6.914000</td>\n",
              "      <td>6.914000</td>\n",
              "      <td>7889000</td>\n",
              "      <td>0.035030</td>\n",
              "    </tr>\n",
              "    <tr>\n",
              "      <th>2</th>\n",
              "      <td>2010-11-24</td>\n",
              "      <td>7.054000</td>\n",
              "      <td>7.194000</td>\n",
              "      <td>6.866000</td>\n",
              "      <td>7.094000</td>\n",
              "      <td>7.094000</td>\n",
              "      <td>7125000</td>\n",
              "      <td>0.026034</td>\n",
              "    </tr>\n",
              "    <tr>\n",
              "      <th>3</th>\n",
              "      <td>2010-11-26</td>\n",
              "      <td>7.120000</td>\n",
              "      <td>7.200000</td>\n",
              "      <td>6.950000</td>\n",
              "      <td>7.064000</td>\n",
              "      <td>7.064000</td>\n",
              "      <td>1753000</td>\n",
              "      <td>-0.004229</td>\n",
              "    </tr>\n",
              "    <tr>\n",
              "      <th>4</th>\n",
              "      <td>2010-11-29</td>\n",
              "      <td>7.082000</td>\n",
              "      <td>7.190000</td>\n",
              "      <td>6.666000</td>\n",
              "      <td>6.866000</td>\n",
              "      <td>6.866000</td>\n",
              "      <td>5728000</td>\n",
              "      <td>-0.028029</td>\n",
              "    </tr>\n",
              "    <tr>\n",
              "      <th>...</th>\n",
              "      <td>...</td>\n",
              "      <td>...</td>\n",
              "      <td>...</td>\n",
              "      <td>...</td>\n",
              "      <td>...</td>\n",
              "      <td>...</td>\n",
              "      <td>...</td>\n",
              "      <td>...</td>\n",
              "    </tr>\n",
              "    <tr>\n",
              "      <th>2513</th>\n",
              "      <td>2020-11-16</td>\n",
              "      <td>408.929993</td>\n",
              "      <td>412.450012</td>\n",
              "      <td>404.089996</td>\n",
              "      <td>408.089996</td>\n",
              "      <td>408.089996</td>\n",
              "      <td>26838600</td>\n",
              "      <td>-0.001004</td>\n",
              "    </tr>\n",
              "    <tr>\n",
              "      <th>2514</th>\n",
              "      <td>2020-11-17</td>\n",
              "      <td>460.170013</td>\n",
              "      <td>462.000000</td>\n",
              "      <td>433.010010</td>\n",
              "      <td>441.609985</td>\n",
              "      <td>441.609985</td>\n",
              "      <td>61188300</td>\n",
              "      <td>0.082139</td>\n",
              "    </tr>\n",
              "    <tr>\n",
              "      <th>2515</th>\n",
              "      <td>2020-11-18</td>\n",
              "      <td>448.350006</td>\n",
              "      <td>496.000000</td>\n",
              "      <td>443.500000</td>\n",
              "      <td>486.640015</td>\n",
              "      <td>486.640015</td>\n",
              "      <td>78044000</td>\n",
              "      <td>0.101968</td>\n",
              "    </tr>\n",
              "    <tr>\n",
              "      <th>2516</th>\n",
              "      <td>2020-11-19</td>\n",
              "      <td>492.000000</td>\n",
              "      <td>508.609985</td>\n",
              "      <td>487.570007</td>\n",
              "      <td>499.269989</td>\n",
              "      <td>499.269989</td>\n",
              "      <td>62475300</td>\n",
              "      <td>0.025953</td>\n",
              "    </tr>\n",
              "    <tr>\n",
              "      <th>2517</th>\n",
              "      <td>2020-11-20</td>\n",
              "      <td>497.989990</td>\n",
              "      <td>502.500000</td>\n",
              "      <td>489.059998</td>\n",
              "      <td>489.609985</td>\n",
              "      <td>489.609985</td>\n",
              "      <td>32807300</td>\n",
              "      <td>-0.019348</td>\n",
              "    </tr>\n",
              "  </tbody>\n",
              "</table>\n",
              "<p>2518 rows × 8 columns</p>\n",
              "</div>"
            ],
            "text/plain": [
              "           Date        Open        High  ...   Adj Close    Volume  Daily Return\n",
              "0    2010-11-22    6.314000    6.690000  ...    6.680000   7648500      0.000000\n",
              "1    2010-11-23    6.658000    7.136000  ...    6.914000   7889000      0.035030\n",
              "2    2010-11-24    7.054000    7.194000  ...    7.094000   7125000      0.026034\n",
              "3    2010-11-26    7.120000    7.200000  ...    7.064000   1753000     -0.004229\n",
              "4    2010-11-29    7.082000    7.190000  ...    6.866000   5728000     -0.028029\n",
              "...         ...         ...         ...  ...         ...       ...           ...\n",
              "2513 2020-11-16  408.929993  412.450012  ...  408.089996  26838600     -0.001004\n",
              "2514 2020-11-17  460.170013  462.000000  ...  441.609985  61188300      0.082139\n",
              "2515 2020-11-18  448.350006  496.000000  ...  486.640015  78044000      0.101968\n",
              "2516 2020-11-19  492.000000  508.609985  ...  499.269989  62475300      0.025953\n",
              "2517 2020-11-20  497.989990  502.500000  ...  489.609985  32807300     -0.019348\n",
              "\n",
              "[2518 rows x 8 columns]"
            ]
          },
          "metadata": {
            "tags": []
          },
          "execution_count": 11
        }
      ]
    },
    {
      "cell_type": "code",
      "metadata": {
        "id": "OQ_s-mti-AnJ"
      },
      "source": [
        "data_training = tsla[tsla['Date']<'2015-11-19'].copy()\n",
        "data_test = tsla[tsla['Date']>='2015-11-19'].copy()"
      ],
      "execution_count": null,
      "outputs": []
    },
    {
      "cell_type": "code",
      "metadata": {
        "id": "rT-PEAPAC4r4"
      },
      "source": [
        "data_training=data_training.iloc[:,5:6].values"
      ],
      "execution_count": null,
      "outputs": []
    },
    {
      "cell_type": "code",
      "metadata": {
        "colab": {
          "base_uri": "https://localhost:8080/"
        },
        "id": "P8FJkiq4pk6p",
        "outputId": "66d15d88-83ed-4705-cd5d-98f6a5702909"
      },
      "source": [
        "data_training"
      ],
      "execution_count": null,
      "outputs": [
        {
          "output_type": "execute_result",
          "data": {
            "text/plain": [
              "array([[ 6.67999983],\n",
              "       [ 6.91400003],\n",
              "       [ 7.09399986],\n",
              "       ...,\n",
              "       [42.86199951],\n",
              "       [42.79999924],\n",
              "       [44.2140007 ]])"
            ]
          },
          "metadata": {
            "tags": []
          },
          "execution_count": 14
        }
      ]
    },
    {
      "cell_type": "code",
      "metadata": {
        "colab": {
          "base_uri": "https://localhost:8080/"
        },
        "id": "IbS7hJ78njlv",
        "outputId": "11ecfbab-3ad4-4ee1-816b-3fd6c194a55e"
      },
      "source": [
        "scalar=MinMaxScaler()\n",
        "data_training=scalar.fit_transform(data_training)\n",
        "data_training"
      ],
      "execution_count": null,
      "outputs": [
        {
          "output_type": "execute_result",
          "data": {
            "text/plain": [
              "array([[0.04379092],\n",
              "       [0.04821922],\n",
              "       [0.05162559],\n",
              "       ...,\n",
              "       [0.7285114 ],\n",
              "       [0.72733808],\n",
              "       [0.75409713]])"
            ]
          },
          "metadata": {
            "tags": []
          },
          "execution_count": 15
        }
      ]
    },
    {
      "cell_type": "code",
      "metadata": {
        "id": "_4pi0g-bqdSE"
      },
      "source": [
        "X_train = []\n",
        "y_train = []\n",
        "\n",
        "for i in range(60, data_training.shape[0]):\n",
        "    X_train.append(data_training[i-60:i])\n",
        "    y_train.append(data_training[i, 0])\n",
        "    \n",
        "X_train, y_train = np.array(X_train), np.array(y_train)"
      ],
      "execution_count": null,
      "outputs": []
    },
    {
      "cell_type": "code",
      "metadata": {
        "id": "ixke1qsxrvWb"
      },
      "source": [
        "X_train = np.reshape(X_train, (X_train.shape[0], X_train.shape[1], 1))"
      ],
      "execution_count": null,
      "outputs": []
    },
    {
      "cell_type": "code",
      "metadata": {
        "colab": {
          "base_uri": "https://localhost:8080/"
        },
        "id": "RxLBmHhoup-H",
        "outputId": "be57c818-7350-4b22-ec53-6f5d25fea341"
      },
      "source": [
        "X_train.shape"
      ],
      "execution_count": null,
      "outputs": [
        {
          "output_type": "execute_result",
          "data": {
            "text/plain": [
              "(1197, 60, 1)"
            ]
          },
          "metadata": {
            "tags": []
          },
          "execution_count": 18
        }
      ]
    },
    {
      "cell_type": "code",
      "metadata": {
        "colab": {
          "base_uri": "https://localhost:8080/"
        },
        "id": "Bq8xcZagvQjc",
        "outputId": "2fb43077-26d3-4e29-991d-c73679e6250c"
      },
      "source": [
        "model = Sequential()\n",
        "#Adding the first LSTM layer and some Dropout regularisation\n",
        "model.add(LSTM(units = 50, return_sequences = True, input_shape = (X_train.shape[1], 1)))\n",
        "model.add(Dropout(0.2))\n",
        "# Adding a second LSTM layer and some Dropout regularisation\n",
        "model.add(LSTM(units = 50, return_sequences = True))\n",
        "model.add(Dropout(0.2))\n",
        "# Adding a third LSTM layer and some Dropout regularisation\n",
        "model.add(LSTM(units = 50, return_sequences = True))\n",
        "model.add(Dropout(0.2))\n",
        "# Adding a fourth LSTM layer and some Dropout regularisation\n",
        "model.add(LSTM(units = 50))\n",
        "model.add(Dropout(0.2))\n",
        "# Adding the output layer\n",
        "model.add(Dense(units = 1))\n",
        "\n",
        "# Compiling the RNN\n",
        "model.compile(optimizer = 'adam', loss = 'mean_squared_error')\n",
        "\n",
        "# Fitting the RNN to the Training set\n",
        "model.fit(X_train, y_train, epochs = 100, batch_size = 32)"
      ],
      "execution_count": null,
      "outputs": [
        {
          "output_type": "stream",
          "text": [
            "Epoch 1/100\n",
            "38/38 [==============================] - 1s 16ms/step - loss: 0.0445\n",
            "Epoch 2/100\n",
            "38/38 [==============================] - 0s 13ms/step - loss: 0.0066\n",
            "Epoch 3/100\n",
            "38/38 [==============================] - 0s 13ms/step - loss: 0.0058\n",
            "Epoch 4/100\n",
            "38/38 [==============================] - 0s 13ms/step - loss: 0.0056\n",
            "Epoch 5/100\n",
            "38/38 [==============================] - 1s 14ms/step - loss: 0.0064\n",
            "Epoch 6/100\n",
            "38/38 [==============================] - 1s 14ms/step - loss: 0.0047\n",
            "Epoch 7/100\n",
            "38/38 [==============================] - 1s 14ms/step - loss: 0.0048\n",
            "Epoch 8/100\n",
            "38/38 [==============================] - 1s 13ms/step - loss: 0.0049\n",
            "Epoch 9/100\n",
            "38/38 [==============================] - 0s 13ms/step - loss: 0.0050\n",
            "Epoch 10/100\n",
            "38/38 [==============================] - 1s 13ms/step - loss: 0.0048\n",
            "Epoch 11/100\n",
            "38/38 [==============================] - 1s 14ms/step - loss: 0.0044\n",
            "Epoch 12/100\n",
            "38/38 [==============================] - 1s 13ms/step - loss: 0.0040\n",
            "Epoch 13/100\n",
            "38/38 [==============================] - 1s 14ms/step - loss: 0.0036\n",
            "Epoch 14/100\n",
            "38/38 [==============================] - 0s 13ms/step - loss: 0.0044\n",
            "Epoch 15/100\n",
            "38/38 [==============================] - 1s 14ms/step - loss: 0.0042\n",
            "Epoch 16/100\n",
            "38/38 [==============================] - 0s 13ms/step - loss: 0.0040\n",
            "Epoch 17/100\n",
            "38/38 [==============================] - 1s 13ms/step - loss: 0.0036\n",
            "Epoch 18/100\n",
            "38/38 [==============================] - 0s 13ms/step - loss: 0.0039\n",
            "Epoch 19/100\n",
            "38/38 [==============================] - 1s 13ms/step - loss: 0.0035\n",
            "Epoch 20/100\n",
            "38/38 [==============================] - 0s 13ms/step - loss: 0.0036\n",
            "Epoch 21/100\n",
            "38/38 [==============================] - 1s 13ms/step - loss: 0.0032\n",
            "Epoch 22/100\n",
            "38/38 [==============================] - 0s 13ms/step - loss: 0.0036\n",
            "Epoch 23/100\n",
            "38/38 [==============================] - 1s 13ms/step - loss: 0.0035\n",
            "Epoch 24/100\n",
            "38/38 [==============================] - 0s 13ms/step - loss: 0.0033\n",
            "Epoch 25/100\n",
            "38/38 [==============================] - 1s 14ms/step - loss: 0.0032\n",
            "Epoch 26/100\n",
            "38/38 [==============================] - 0s 13ms/step - loss: 0.0033\n",
            "Epoch 27/100\n",
            "38/38 [==============================] - 1s 14ms/step - loss: 0.0035\n",
            "Epoch 28/100\n",
            "38/38 [==============================] - 0s 13ms/step - loss: 0.0030\n",
            "Epoch 29/100\n",
            "38/38 [==============================] - 0s 13ms/step - loss: 0.0032\n",
            "Epoch 30/100\n",
            "38/38 [==============================] - 0s 13ms/step - loss: 0.0036\n",
            "Epoch 31/100\n",
            "38/38 [==============================] - 1s 16ms/step - loss: 0.0036\n",
            "Epoch 32/100\n",
            "38/38 [==============================] - 1s 14ms/step - loss: 0.0033\n",
            "Epoch 33/100\n",
            "38/38 [==============================] - 1s 13ms/step - loss: 0.0030\n",
            "Epoch 34/100\n",
            "38/38 [==============================] - 1s 14ms/step - loss: 0.0026\n",
            "Epoch 35/100\n",
            "38/38 [==============================] - 0s 13ms/step - loss: 0.0028\n",
            "Epoch 36/100\n",
            "38/38 [==============================] - 0s 13ms/step - loss: 0.0027\n",
            "Epoch 37/100\n",
            "38/38 [==============================] - 0s 13ms/step - loss: 0.0026\n",
            "Epoch 38/100\n",
            "38/38 [==============================] - 1s 13ms/step - loss: 0.0034\n",
            "Epoch 39/100\n",
            "38/38 [==============================] - 0s 13ms/step - loss: 0.0031\n",
            "Epoch 40/100\n",
            "38/38 [==============================] - 0s 13ms/step - loss: 0.0027\n",
            "Epoch 41/100\n",
            "38/38 [==============================] - 0s 13ms/step - loss: 0.0026\n",
            "Epoch 42/100\n",
            "38/38 [==============================] - 0s 13ms/step - loss: 0.0031\n",
            "Epoch 43/100\n",
            "38/38 [==============================] - 1s 13ms/step - loss: 0.0027\n",
            "Epoch 44/100\n",
            "38/38 [==============================] - 1s 13ms/step - loss: 0.0026\n",
            "Epoch 45/100\n",
            "38/38 [==============================] - 1s 14ms/step - loss: 0.0024\n",
            "Epoch 46/100\n",
            "38/38 [==============================] - 0s 13ms/step - loss: 0.0025\n",
            "Epoch 47/100\n",
            "38/38 [==============================] - 1s 14ms/step - loss: 0.0023\n",
            "Epoch 48/100\n",
            "38/38 [==============================] - 0s 13ms/step - loss: 0.0025\n",
            "Epoch 49/100\n",
            "38/38 [==============================] - 0s 13ms/step - loss: 0.0027\n",
            "Epoch 50/100\n",
            "38/38 [==============================] - 1s 14ms/step - loss: 0.0024\n",
            "Epoch 51/100\n",
            "38/38 [==============================] - 1s 14ms/step - loss: 0.0026\n",
            "Epoch 52/100\n",
            "38/38 [==============================] - 1s 15ms/step - loss: 0.0027\n",
            "Epoch 53/100\n",
            "38/38 [==============================] - 1s 14ms/step - loss: 0.0023\n",
            "Epoch 54/100\n",
            "38/38 [==============================] - 1s 15ms/step - loss: 0.0023\n",
            "Epoch 55/100\n",
            "38/38 [==============================] - 1s 14ms/step - loss: 0.0023\n",
            "Epoch 56/100\n",
            "38/38 [==============================] - 1s 14ms/step - loss: 0.0023\n",
            "Epoch 57/100\n",
            "38/38 [==============================] - 1s 14ms/step - loss: 0.0025\n",
            "Epoch 58/100\n",
            "38/38 [==============================] - 1s 15ms/step - loss: 0.0024\n",
            "Epoch 59/100\n",
            "38/38 [==============================] - 1s 14ms/step - loss: 0.0022\n",
            "Epoch 60/100\n",
            "38/38 [==============================] - 1s 13ms/step - loss: 0.0022\n",
            "Epoch 61/100\n",
            "38/38 [==============================] - 0s 13ms/step - loss: 0.0024\n",
            "Epoch 62/100\n",
            "38/38 [==============================] - 1s 14ms/step - loss: 0.0024\n",
            "Epoch 63/100\n",
            "38/38 [==============================] - 0s 13ms/step - loss: 0.0023\n",
            "Epoch 64/100\n",
            "38/38 [==============================] - 1s 14ms/step - loss: 0.0022\n",
            "Epoch 65/100\n",
            "38/38 [==============================] - 1s 13ms/step - loss: 0.0022\n",
            "Epoch 66/100\n",
            "38/38 [==============================] - 1s 15ms/step - loss: 0.0023\n",
            "Epoch 67/100\n",
            "38/38 [==============================] - 1s 15ms/step - loss: 0.0022\n",
            "Epoch 68/100\n",
            "38/38 [==============================] - 1s 15ms/step - loss: 0.0026\n",
            "Epoch 69/100\n",
            "38/38 [==============================] - 1s 15ms/step - loss: 0.0022\n",
            "Epoch 70/100\n",
            "38/38 [==============================] - 0s 13ms/step - loss: 0.0021\n",
            "Epoch 71/100\n",
            "38/38 [==============================] - 1s 13ms/step - loss: 0.0023\n",
            "Epoch 72/100\n",
            "38/38 [==============================] - 1s 15ms/step - loss: 0.0022\n",
            "Epoch 73/100\n",
            "38/38 [==============================] - 1s 15ms/step - loss: 0.0022\n",
            "Epoch 74/100\n",
            "38/38 [==============================] - 0s 13ms/step - loss: 0.0022\n",
            "Epoch 75/100\n",
            "38/38 [==============================] - 1s 14ms/step - loss: 0.0026\n",
            "Epoch 76/100\n",
            "38/38 [==============================] - 1s 15ms/step - loss: 0.0023\n",
            "Epoch 77/100\n",
            "38/38 [==============================] - 1s 15ms/step - loss: 0.0020\n",
            "Epoch 78/100\n",
            "38/38 [==============================] - 1s 14ms/step - loss: 0.0021\n",
            "Epoch 79/100\n",
            "38/38 [==============================] - 0s 13ms/step - loss: 0.0020\n",
            "Epoch 80/100\n",
            "38/38 [==============================] - 1s 15ms/step - loss: 0.0022\n",
            "Epoch 81/100\n",
            "38/38 [==============================] - 1s 14ms/step - loss: 0.0023\n",
            "Epoch 82/100\n",
            "38/38 [==============================] - 1s 13ms/step - loss: 0.0018\n",
            "Epoch 83/100\n",
            "38/38 [==============================] - 1s 16ms/step - loss: 0.0022\n",
            "Epoch 84/100\n",
            "38/38 [==============================] - 1s 13ms/step - loss: 0.0019\n",
            "Epoch 85/100\n",
            "38/38 [==============================] - 1s 14ms/step - loss: 0.0019\n",
            "Epoch 86/100\n",
            "38/38 [==============================] - 1s 14ms/step - loss: 0.0020\n",
            "Epoch 87/100\n",
            "38/38 [==============================] - 1s 14ms/step - loss: 0.0020\n",
            "Epoch 88/100\n",
            "38/38 [==============================] - 1s 15ms/step - loss: 0.0020\n",
            "Epoch 89/100\n",
            "38/38 [==============================] - 1s 14ms/step - loss: 0.0019\n",
            "Epoch 90/100\n",
            "38/38 [==============================] - 1s 16ms/step - loss: 0.0020\n",
            "Epoch 91/100\n",
            "38/38 [==============================] - 1s 15ms/step - loss: 0.0019\n",
            "Epoch 92/100\n",
            "38/38 [==============================] - 1s 14ms/step - loss: 0.0019\n",
            "Epoch 93/100\n",
            "38/38 [==============================] - 1s 14ms/step - loss: 0.0018\n",
            "Epoch 94/100\n",
            "38/38 [==============================] - 1s 13ms/step - loss: 0.0016\n",
            "Epoch 95/100\n",
            "38/38 [==============================] - 0s 13ms/step - loss: 0.0018\n",
            "Epoch 96/100\n",
            "38/38 [==============================] - 0s 13ms/step - loss: 0.0019\n",
            "Epoch 97/100\n",
            "38/38 [==============================] - 1s 13ms/step - loss: 0.0019\n",
            "Epoch 98/100\n",
            "38/38 [==============================] - 0s 13ms/step - loss: 0.0022\n",
            "Epoch 99/100\n",
            "38/38 [==============================] - 0s 13ms/step - loss: 0.0019\n",
            "Epoch 100/100\n",
            "38/38 [==============================] - 0s 13ms/step - loss: 0.0018\n"
          ],
          "name": "stdout"
        },
        {
          "output_type": "execute_result",
          "data": {
            "text/plain": [
              "<tensorflow.python.keras.callbacks.History at 0x7f17a0101630>"
            ]
          },
          "metadata": {
            "tags": []
          },
          "execution_count": 19
        }
      ]
    },
    {
      "cell_type": "code",
      "metadata": {
        "id": "UWn7mWTYC1aL"
      },
      "source": [
        "data_training = tsla[tsla['Date']<'2015-11-19'].iloc[:,5:6]\n",
        "data_test = tsla[tsla['Date']>='2015-11-19'].iloc[:,5:6]\n",
        "dataset_total=pd.concat((data_training,data_test),axis=0)"
      ],
      "execution_count": null,
      "outputs": []
    },
    {
      "cell_type": "code",
      "metadata": {
        "id": "qaU2nDtYD2Fi"
      },
      "source": [
        "dataset_total=dataset_total.values"
      ],
      "execution_count": null,
      "outputs": []
    },
    {
      "cell_type": "code",
      "metadata": {
        "colab": {
          "base_uri": "https://localhost:8080/"
        },
        "id": "e1rIlT_oD_Vj",
        "outputId": "0520251d-59c8-4a1d-a17d-cc56ffa248b6"
      },
      "source": [
        "dataset_total"
      ],
      "execution_count": null,
      "outputs": [
        {
          "output_type": "execute_result",
          "data": {
            "text/plain": [
              "array([[  6.67999983],\n",
              "       [  6.91400003],\n",
              "       [  7.09399986],\n",
              "       ...,\n",
              "       [486.64001465],\n",
              "       [499.26998901],\n",
              "       [489.60998535]])"
            ]
          },
          "metadata": {
            "tags": []
          },
          "execution_count": 22
        }
      ]
    },
    {
      "cell_type": "code",
      "metadata": {
        "id": "9dLKivCJ2IEx"
      },
      "source": [
        "data_test=data_test.values"
      ],
      "execution_count": null,
      "outputs": []
    },
    {
      "cell_type": "code",
      "metadata": {
        "colab": {
          "base_uri": "https://localhost:8080/"
        },
        "id": "QE-LGGFBDuoj",
        "outputId": "69a8e22c-fb5d-4883-9c1f-73448dfada37"
      },
      "source": [
        "data_test"
      ],
      "execution_count": null,
      "outputs": [
        {
          "output_type": "execute_result",
          "data": {
            "text/plain": [
              "array([[ 44.36000061],\n",
              "       [ 44.0019989 ],\n",
              "       [ 43.54999924],\n",
              "       ...,\n",
              "       [486.64001465],\n",
              "       [499.26998901],\n",
              "       [489.60998535]])"
            ]
          },
          "metadata": {
            "tags": []
          },
          "execution_count": 24
        }
      ]
    },
    {
      "cell_type": "code",
      "metadata": {
        "colab": {
          "base_uri": "https://localhost:8080/"
        },
        "id": "HCVQbpiGgh1m",
        "outputId": "cb000995-08bb-4a81-daf2-21b34b129dd9"
      },
      "source": [
        "inputs = dataset_total[len(dataset_total) - len(data_test) - 60:]\n",
        "inputs = inputs.reshape(-1,1)\n",
        "inputs = scalar.transform(inputs)\n",
        "X_test = []\n",
        "for i in range(60, inputs.shape[0]):\n",
        "    X_test.append(inputs[i-60:i])\n",
        "\n",
        "X_test = np.array(X_test)\n",
        "X_test.shape"
      ],
      "execution_count": null,
      "outputs": [
        {
          "output_type": "execute_result",
          "data": {
            "text/plain": [
              "(1261, 60, 1)"
            ]
          },
          "metadata": {
            "tags": []
          },
          "execution_count": 25
        }
      ]
    },
    {
      "cell_type": "code",
      "metadata": {
        "id": "vq62xR0qnTdh"
      },
      "source": [
        "predicted_stock_price = model.predict(X_test)\n",
        "predicted_stock_price = scalar.inverse_transform(predicted_stock_price)"
      ],
      "execution_count": null,
      "outputs": []
    },
    {
      "cell_type": "code",
      "metadata": {
        "colab": {
          "base_uri": "https://localhost:8080/"
        },
        "id": "4S8xF5g6tql2",
        "outputId": "8a7e2eed-ee9a-4a9e-d127-2678fdd47a5c"
      },
      "source": [
        "predicted_stock_price"
      ],
      "execution_count": null,
      "outputs": [
        {
          "output_type": "execute_result",
          "data": {
            "text/plain": [
              "array([[ 43.69639 ],\n",
              "       [ 44.349834],\n",
              "       [ 44.760334],\n",
              "       ...,\n",
              "       [118.5977  ],\n",
              "       [119.1197  ],\n",
              "       [119.13761 ]], dtype=float32)"
            ]
          },
          "metadata": {
            "tags": []
          },
          "execution_count": 27
        }
      ]
    },
    {
      "cell_type": "code",
      "metadata": {
        "colab": {
          "base_uri": "https://localhost:8080/",
          "height": 350
        },
        "id": "x-HJFFeqtwfK",
        "outputId": "a2beac63-e989-48c5-a224-39119bf22cfa"
      },
      "source": [
        "# Visualising the results\n",
        "plt.figure(figsize=(14,5))\n",
        "plt.plot(data_test, color = 'red', label = 'Real TSLA Stock Price')\n",
        "plt.plot(predicted_stock_price, color = 'blue', label = 'Predicted TSLA Stock Price')\n",
        "plt.title('TSLA Stock Price Prediction')\n",
        "plt.xlabel('Time')\n",
        "plt.ylabel('TSLA Stock Price')\n",
        "plt.legend()\n",
        "plt.show()"
      ],
      "execution_count": null,
      "outputs": [
        {
          "output_type": "display_data",
          "data": {
            "image/png": "[encoded data removed]",
            "text/plain": [
              "<Figure size 1008x360 with 1 Axes>"
            ]
          },
          "metadata": {
            "tags": [],
            "needs_background": "light"
          }
        }
      ]
    },
    {
      "cell_type": "code",
      "metadata": {
        "id": "dX5iIUJ_rwmy"
      },
      "source": [
        ""
      ],
      "execution_count": null,
      "outputs": []
    }
  ]
}